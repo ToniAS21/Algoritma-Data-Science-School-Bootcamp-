{
 "cells": [
  {
   "cell_type": "markdown",
   "metadata": {},
   "source": [
    "# Quiz: SQL Query\n",
    "\n",
    "Kuis ini merupakan bagian dari proses penilaian *Algoritma Academy*. Selamat Anda sudah menyelesaikan materi *SQL Query Course*! Kami akan melakukan penilaian berupa kuis untuk menguji materi yang sudah dipelajari. Pengerjaan Kuis diharapkan dapat dilakukan di dalam kelas, silakan hubungi tim pengajar kami jika Anda melewatkan kesempatan untuk mengambilnya di kelas.\n",
    "\n",
    "## Skema Database\n",
    "\n",
    "Pada kuis ini, database yang digunakan adalah `chinook.db` yang terdapat pada folder `data_input`.\n",
    "\n",
    "Database `chinook.db` terdiri dari 11 tabel yang berisi sampel data dari toko media digital:\n",
    "\n",
    "- Data terkait media seperti pada tabel `tracks`, `albums`, `artists`, `genres`, `media_types`, `playlists`, `playlist_track` merupakan data asli dari *library Apple iTunes*.\n",
    "- Informasi mengenai `customers` dan `employees` dibuat menggunakan nama dan alamat fiktif yang dapat ditemukan di *Google Maps*, dan data lain yang diformat dengan baik (telepon, fax, email, dll).\n",
    "- Informasi penjualan `invoices` dan `invoice_items` dihasilkan secara otomatis menggunakan data acak untuk periode tahun 2009-2013."
   ]
  },
  {
   "cell_type": "code",
   "execution_count": 1,
   "metadata": {},
   "outputs": [],
   "source": [
    "import sqlite3\n",
    "import pandas as pd\n",
    "\n",
    "conn = sqlite3.connect(\"data_input/chinook.db\")"
   ]
  },
  {
   "cell_type": "markdown",
   "metadata": {},
   "source": [
    "![](assets/chinookschema2.png)"
   ]
  },
  {
   "cell_type": "markdown",
   "metadata": {},
   "source": [
    "## Data Invoice Pelanggan\n",
    "\n",
    "Kita ingin mengembangkan laporan visualisasi penjualan sederhana dari top 5 pasar utama (kolom `Country` di tabel `customers`) yang diurutkan berdasarkan total penjualan (kolom `Total` di tabel`invoices`). \n",
    "\n",
    "Kita juga ingin mengidentifikasi top 5 customer berdasarkan namanya (`FirstName`, `LastName`) pada laporan yang dihasilkan.\n",
    "\n",
    "Terakhir, kita ingin laporan tersebut menyertakan analisis harian (dalam seminggu) tentang kinerja penjualan, dan untuk itu kita akan membutuhkan kolom `InvoiceDate`. "
   ]
  },
  {
   "cell_type": "markdown",
   "metadata": {},
   "source": [
    "### SQL Query"
   ]
  },
  {
   "cell_type": "markdown",
   "metadata": {},
   "source": [
    "Pertama-tama mari kita coba untuk membuat dataframe menggunakan method `read_sql_query()`, anda ingin mengetahui total pembelian yang dilakukan oleh masing-masing pelanggan. Untuk mengetahui nama pelanggan, Anda perlu menggabungkan nama depan (`FirstName`) dan nama belakang (`LastName`) pelanggan dan simpanlah kedalam kolom baru dengan nama `CustomerName`. Buatlah tabel agregasi yang menunjukkan **jumlah** total penjualan (`Total`) pada masing-masing pelanggan dan urutkanlah untuk mendapatkan informasi total pembelian terbesar hingga terkecil.\n",
    "\n",
    "```\n",
    "customer_total = pd.read_sql_query(\n",
    "    '''\n",
    "    SELECT SUM(___.____) as Total, \n",
    "    customers.___ || ' ' || customers.___ AS CustomerName  \n",
    "    FROM customers\n",
    "    LEFT JOIN ___\n",
    "    ON customers.___ = ___.___\n",
    "    GROUP BY ____\n",
    "    ORDER BY ___ DESC\n",
    "    LIMIT ___ \n",
    "    ''' ,conn)\n",
    "```\n",
    "\n",
    "\n",
    "1. Manakah di antara pelanggan berikut yang termasuk dalam 5 besar pelanggan yang diurutkan berdasarkan total pembeliannya (`Total`)?\n",
    "    - [ ] Victor Stevens\n",
    "    - [X] Hugh O'Reilly\n",
    "    - [ ] Puja Srivastava\n",
    "    - [ ] Astrid Gruber"
   ]
  },
  {
   "cell_type": "code",
   "execution_count": 59,
   "metadata": {},
   "outputs": [
    {
     "data": {
      "text/html": [
       "<div>\n",
       "<style scoped>\n",
       "    .dataframe tbody tr th:only-of-type {\n",
       "        vertical-align: middle;\n",
       "    }\n",
       "\n",
       "    .dataframe tbody tr th {\n",
       "        vertical-align: top;\n",
       "    }\n",
       "\n",
       "    .dataframe thead th {\n",
       "        text-align: right;\n",
       "    }\n",
       "</style>\n",
       "<table border=\"1\" class=\"dataframe\">\n",
       "  <thead>\n",
       "    <tr style=\"text-align: right;\">\n",
       "      <th></th>\n",
       "      <th>Total</th>\n",
       "      <th>CustomerName</th>\n",
       "    </tr>\n",
       "  </thead>\n",
       "  <tbody>\n",
       "    <tr>\n",
       "      <th>0</th>\n",
       "      <td>49.62</td>\n",
       "      <td>Helena Holý</td>\n",
       "    </tr>\n",
       "    <tr>\n",
       "      <th>1</th>\n",
       "      <td>47.62</td>\n",
       "      <td>Richard Cunningham</td>\n",
       "    </tr>\n",
       "    <tr>\n",
       "      <th>2</th>\n",
       "      <td>46.62</td>\n",
       "      <td>Luis Rojas</td>\n",
       "    </tr>\n",
       "    <tr>\n",
       "      <th>3</th>\n",
       "      <td>45.62</td>\n",
       "      <td>Ladislav Kovács</td>\n",
       "    </tr>\n",
       "    <tr>\n",
       "      <th>4</th>\n",
       "      <td>45.62</td>\n",
       "      <td>Hugh O'Reilly</td>\n",
       "    </tr>\n",
       "  </tbody>\n",
       "</table>\n",
       "</div>"
      ],
      "text/plain": [
       "   Total        CustomerName\n",
       "0  49.62         Helena Holý\n",
       "1  47.62  Richard Cunningham\n",
       "2  46.62          Luis Rojas\n",
       "3  45.62     Ladislav Kovács\n",
       "4  45.62       Hugh O'Reilly"
      ]
     },
     "execution_count": 59,
     "metadata": {},
     "output_type": "execute_result"
    }
   ],
   "source": [
    "## Your code here\n",
    "customer_total = pd.read_sql_query(\n",
    "    '''\n",
    "    SELECT SUM(invoices.Total) as Total, \n",
    "    customers.FirstName || ' ' || customers.LastName AS CustomerName  \n",
    "    FROM customers\n",
    "    LEFT JOIN invoices\n",
    "    ON customers.CustomerId = invoices.CustomerID\n",
    "    GROUP BY customers.CustomerId\n",
    "    ORDER BY Total DESC\n",
    "    LIMIT 5\n",
    "    ''' ,conn)\n",
    "customer_total "
   ]
  },
  {
   "cell_type": "markdown",
   "metadata": {},
   "source": [
    "Anda ingin mengetahui pendapatan bruto yang diperoleh oleh masing-masing negara. Lakukanlah fecthing data dari database untuk mendapatkan **jumlah** dari pendapatan bruto (`Total`) yang diperoleh oleh masing-masing negara dan urutkanlah agar mendapatkan informasi negara yang memiliki pendapatan paling besar hingga paling kecil.\n",
    "\n",
    "```\n",
    "country_total = pd.read_sql_query(\n",
    "    '''\n",
    "    SELECT SUM(____.____) as Total, customers._____  \n",
    "    FROM customers\n",
    "    LEFT JOIN _____\n",
    "    ON customers.____ = ____.____\n",
    "    GROUP BY ____\n",
    "    ORDER BY ____ DESC\n",
    "    ''' ,conn)\n",
    "```\n",
    "\n",
    "2. Manakah di antara negara berikut yang termasuk dalam 5 negara dengan pendapatan bruto paling besar yang diurutkan berdasarkan kolom `Total`?\n",
    "    - [ ] United Kingdom\n",
    "    - [X] Germany\n",
    "    - [ ] Portugal\n",
    "    - [ ] India"
   ]
  },
  {
   "cell_type": "code",
   "execution_count": 13,
   "metadata": {
    "scrolled": true
   },
   "outputs": [
    {
     "data": {
      "text/html": [
       "<div>\n",
       "<style scoped>\n",
       "    .dataframe tbody tr th:only-of-type {\n",
       "        vertical-align: middle;\n",
       "    }\n",
       "\n",
       "    .dataframe tbody tr th {\n",
       "        vertical-align: top;\n",
       "    }\n",
       "\n",
       "    .dataframe thead th {\n",
       "        text-align: right;\n",
       "    }\n",
       "</style>\n",
       "<table border=\"1\" class=\"dataframe\">\n",
       "  <thead>\n",
       "    <tr style=\"text-align: right;\">\n",
       "      <th></th>\n",
       "      <th>Total</th>\n",
       "      <th>Country</th>\n",
       "    </tr>\n",
       "  </thead>\n",
       "  <tbody>\n",
       "    <tr>\n",
       "      <th>0</th>\n",
       "      <td>523.06</td>\n",
       "      <td>USA</td>\n",
       "    </tr>\n",
       "    <tr>\n",
       "      <th>1</th>\n",
       "      <td>303.96</td>\n",
       "      <td>Canada</td>\n",
       "    </tr>\n",
       "    <tr>\n",
       "      <th>2</th>\n",
       "      <td>195.10</td>\n",
       "      <td>France</td>\n",
       "    </tr>\n",
       "    <tr>\n",
       "      <th>3</th>\n",
       "      <td>190.10</td>\n",
       "      <td>Brazil</td>\n",
       "    </tr>\n",
       "    <tr>\n",
       "      <th>4</th>\n",
       "      <td>156.48</td>\n",
       "      <td>Germany</td>\n",
       "    </tr>\n",
       "  </tbody>\n",
       "</table>\n",
       "</div>"
      ],
      "text/plain": [
       "    Total  Country\n",
       "0  523.06      USA\n",
       "1  303.96   Canada\n",
       "2  195.10   France\n",
       "3  190.10   Brazil\n",
       "4  156.48  Germany"
      ]
     },
     "execution_count": 13,
     "metadata": {},
     "output_type": "execute_result"
    }
   ],
   "source": [
    "## Your code here\n",
    "country_total = pd.read_sql_query(\n",
    "    '''\n",
    "    SELECT SUM(invoices.Total) as Total, customers.Country  \n",
    "    FROM customers\n",
    "    LEFT JOIN invoices\n",
    "    ON customers.CustomerId = invoices.CustomerID\n",
    "    GROUP BY BillingCountry\n",
    "    ORDER BY Total DESC\n",
    "    LIMIT 5\n",
    "    ''' ,conn)\n",
    "\n",
    "country_total"
   ]
  },
  {
   "cell_type": "markdown",
   "metadata": {},
   "source": [
    "## Top 5 Negara \n",
    "\n",
    "Berdasarkan informasi yang sudah Anda dapatkan mengenai 5 negara dengan pendapatan tertinggi, Anda ingin melakukan analisa lebih lanjut beberapa informasi lain yang bisa dijadikan sebagai *insight*. Gunakan kerangka kode di bawah ini sebagai referensi untuk membuat sebuah dataframe yang berisi catatan pelanggan-pelanggan yang berasal dari 5 negara dengan total pendapatan teratas. \n",
    "\n",
    "```\n",
    "top5data = pd.read_sql_query(\n",
    "    '''\n",
    "    SELECT ___.Total, ___.InvoiceDate, customers.country, \n",
    "    customers.____ || ' ' || customers.____ as CustomerName\n",
    "    FROM customers\n",
    "    LEFT JOIN ____\n",
    "    ON customers.____ = ____.____\n",
    "    WHERE ____.____ IN ('___' , '___', '___', '___','___')\n",
    "    ''' ,conn,parse_dates='InvoiceDate')\n",
    "```\n",
    "\n",
    "> **Petunjuk** : Pada method `read_sql_query`, Anda dapat menggunakan argumen `parse_dates='InvoiceDate'` agar kolom tertentu dikonversikan sebagai tanggal, sehingga Anda tidak perlu lagi melakukan konversi `to_datetime ()`"
   ]
  },
  {
   "cell_type": "code",
   "execution_count": 61,
   "metadata": {
    "run_control": {
     "marked": false
    }
   },
   "outputs": [
    {
     "data": {
      "text/html": [
       "<div>\n",
       "<style scoped>\n",
       "    .dataframe tbody tr th:only-of-type {\n",
       "        vertical-align: middle;\n",
       "    }\n",
       "\n",
       "    .dataframe tbody tr th {\n",
       "        vertical-align: top;\n",
       "    }\n",
       "\n",
       "    .dataframe thead th {\n",
       "        text-align: right;\n",
       "    }\n",
       "</style>\n",
       "<table border=\"1\" class=\"dataframe\">\n",
       "  <thead>\n",
       "    <tr style=\"text-align: right;\">\n",
       "      <th></th>\n",
       "      <th>Total</th>\n",
       "      <th>InvoiceDate</th>\n",
       "      <th>Country</th>\n",
       "      <th>CustomerName</th>\n",
       "    </tr>\n",
       "  </thead>\n",
       "  <tbody>\n",
       "    <tr>\n",
       "      <th>0</th>\n",
       "      <td>3.98</td>\n",
       "      <td>2010-03-11</td>\n",
       "      <td>Brazil</td>\n",
       "      <td>Luís Gonçalves</td>\n",
       "    </tr>\n",
       "    <tr>\n",
       "      <th>1</th>\n",
       "      <td>3.96</td>\n",
       "      <td>2010-06-13</td>\n",
       "      <td>Brazil</td>\n",
       "      <td>Luís Gonçalves</td>\n",
       "    </tr>\n",
       "    <tr>\n",
       "      <th>2</th>\n",
       "      <td>5.94</td>\n",
       "      <td>2010-09-15</td>\n",
       "      <td>Brazil</td>\n",
       "      <td>Luís Gonçalves</td>\n",
       "    </tr>\n",
       "    <tr>\n",
       "      <th>3</th>\n",
       "      <td>0.99</td>\n",
       "      <td>2011-05-06</td>\n",
       "      <td>Brazil</td>\n",
       "      <td>Luís Gonçalves</td>\n",
       "    </tr>\n",
       "    <tr>\n",
       "      <th>4</th>\n",
       "      <td>1.98</td>\n",
       "      <td>2012-10-27</td>\n",
       "      <td>Brazil</td>\n",
       "      <td>Luís Gonçalves</td>\n",
       "    </tr>\n",
       "    <tr>\n",
       "      <th>...</th>\n",
       "      <td>...</td>\n",
       "      <td>...</td>\n",
       "      <td>...</td>\n",
       "      <td>...</td>\n",
       "    </tr>\n",
       "    <tr>\n",
       "      <th>240</th>\n",
       "      <td>5.94</td>\n",
       "      <td>2010-07-15</td>\n",
       "      <td>France</td>\n",
       "      <td>Isabelle Mercier</td>\n",
       "    </tr>\n",
       "    <tr>\n",
       "      <th>241</th>\n",
       "      <td>0.99</td>\n",
       "      <td>2011-03-05</td>\n",
       "      <td>France</td>\n",
       "      <td>Isabelle Mercier</td>\n",
       "    </tr>\n",
       "    <tr>\n",
       "      <th>242</th>\n",
       "      <td>1.98</td>\n",
       "      <td>2012-08-26</td>\n",
       "      <td>France</td>\n",
       "      <td>Isabelle Mercier</td>\n",
       "    </tr>\n",
       "    <tr>\n",
       "      <th>243</th>\n",
       "      <td>16.86</td>\n",
       "      <td>2012-10-06</td>\n",
       "      <td>France</td>\n",
       "      <td>Isabelle Mercier</td>\n",
       "    </tr>\n",
       "    <tr>\n",
       "      <th>244</th>\n",
       "      <td>8.91</td>\n",
       "      <td>2013-06-06</td>\n",
       "      <td>France</td>\n",
       "      <td>Isabelle Mercier</td>\n",
       "    </tr>\n",
       "  </tbody>\n",
       "</table>\n",
       "<p>245 rows × 4 columns</p>\n",
       "</div>"
      ],
      "text/plain": [
       "     Total InvoiceDate Country      CustomerName\n",
       "0     3.98  2010-03-11  Brazil    Luís Gonçalves\n",
       "1     3.96  2010-06-13  Brazil    Luís Gonçalves\n",
       "2     5.94  2010-09-15  Brazil    Luís Gonçalves\n",
       "3     0.99  2011-05-06  Brazil    Luís Gonçalves\n",
       "4     1.98  2012-10-27  Brazil    Luís Gonçalves\n",
       "..     ...         ...     ...               ...\n",
       "240   5.94  2010-07-15  France  Isabelle Mercier\n",
       "241   0.99  2011-03-05  France  Isabelle Mercier\n",
       "242   1.98  2012-08-26  France  Isabelle Mercier\n",
       "243  16.86  2012-10-06  France  Isabelle Mercier\n",
       "244   8.91  2013-06-06  France  Isabelle Mercier\n",
       "\n",
       "[245 rows x 4 columns]"
      ]
     },
     "execution_count": 61,
     "metadata": {},
     "output_type": "execute_result"
    }
   ],
   "source": [
    "## Your code here\n",
    "top5data = pd.read_sql_query(\n",
    "    '''\n",
    "    SELECT invoices.Total, invoices.InvoiceDate, customers.country, \n",
    "    customers.FirstName || ' ' || customers.LastName as CustomerName\n",
    "    FROM customers\n",
    "    LEFT JOIN invoices\n",
    "    ON customers.CustomerId = invoices.CustomerID\n",
    "    WHERE customers.country IN ('USA' , 'Canada', 'France', 'Brazil','Germany')\n",
    "    ''' ,conn,parse_dates='InvoiceDate')\n",
    "\n",
    "top5data"
   ]
  },
  {
   "cell_type": "markdown",
   "metadata": {},
   "source": [
    "Menggunakan dataframe `top5data` diatas, lakukan analisa deskriptif untuk menjawab pertanyaan dibawah ini.\n",
    "\n",
    "3. Berapa banyak transaksi penjualan (baris) yang berasal dari 5 negara teratas?\n",
    "    - [ ] 7\n",
    "    - [X] 245\n",
    "    - [ ] 412\n",
    "    - [ ] 1715"
   ]
  },
  {
   "cell_type": "code",
   "execution_count": 17,
   "metadata": {},
   "outputs": [
    {
     "data": {
      "text/plain": [
       "Total           245\n",
       "InvoiceDate     245\n",
       "Country         245\n",
       "CustomerName    245\n",
       "dtype: int64"
      ]
     },
     "execution_count": 17,
     "metadata": {},
     "output_type": "execute_result"
    }
   ],
   "source": [
    "## Your code here\n",
    "top5data.count()"
   ]
  },
  {
   "cell_type": "markdown",
   "metadata": {},
   "source": [
    "### Menggabungkan SQL Query dengan Manipulasi Data Pandas"
   ]
  },
  {
   "cell_type": "markdown",
   "metadata": {},
   "source": [
    "Dengan menggunakan Pandas, kita dapat melakukan teknik-teknik data manipulasi seperti ekstraksi informasi dari tipe data datetime pada dataframe hasil fechting dari database. Contohnya, anda tertarik untuk mengetahui lebih lanjut penjualan yang dilakuan pada top 5 negara khususnya Perancis (**France**). Negara Perancis (**France**) melakukan penjualan setiap harinya, lakukan agregasi data untuk mendapatkan **jumlah** pendapatan masing-masing harinya.\n",
    "\n",
    "Kita dapat menggunakan kolom `InvoiceDate` dari dataframe `top5data` untuk membuat kolom baru `InvoiceDOW` untuk menampilkan nama-nama hari pada suatu transaksi\n",
    "\n",
    "> **Petunjuk** : `pandas` memiliki method bawaan untuk mengekstrak nama hari dalam seminggu. Kita telah mempelajarinya di materi ke-2 dari spesialisasi ini (**Working with Datetime**). Contoh penggunaannya adalah:\n",
    ">\n",
    "> `data['InvoiceDOW'] = data['InvoiceDate'].dt.day_name()`\n"
   ]
  },
  {
   "cell_type": "code",
   "execution_count": 66,
   "metadata": {
    "scrolled": true
   },
   "outputs": [
    {
     "data": {
      "text/html": [
       "<div>\n",
       "<style scoped>\n",
       "    .dataframe tbody tr th:only-of-type {\n",
       "        vertical-align: middle;\n",
       "    }\n",
       "\n",
       "    .dataframe tbody tr th {\n",
       "        vertical-align: top;\n",
       "    }\n",
       "\n",
       "    .dataframe thead th {\n",
       "        text-align: right;\n",
       "    }\n",
       "</style>\n",
       "<table border=\"1\" class=\"dataframe\">\n",
       "  <thead>\n",
       "    <tr style=\"text-align: right;\">\n",
       "      <th>Country</th>\n",
       "      <th>Brazil</th>\n",
       "      <th>Canada</th>\n",
       "      <th>France</th>\n",
       "      <th>Germany</th>\n",
       "      <th>USA</th>\n",
       "      <th>All</th>\n",
       "    </tr>\n",
       "    <tr>\n",
       "      <th>InvoiceDOW</th>\n",
       "      <th></th>\n",
       "      <th></th>\n",
       "      <th></th>\n",
       "      <th></th>\n",
       "      <th></th>\n",
       "      <th></th>\n",
       "    </tr>\n",
       "  </thead>\n",
       "  <tbody>\n",
       "    <tr>\n",
       "      <th>Friday</th>\n",
       "      <td>16.83</td>\n",
       "      <td>58.41</td>\n",
       "      <td>1.98</td>\n",
       "      <td>8.91</td>\n",
       "      <td>87.18</td>\n",
       "      <td>173.31</td>\n",
       "    </tr>\n",
       "    <tr>\n",
       "      <th>Monday</th>\n",
       "      <td>19.80</td>\n",
       "      <td>43.56</td>\n",
       "      <td>25.75</td>\n",
       "      <td>64.35</td>\n",
       "      <td>19.80</td>\n",
       "      <td>173.26</td>\n",
       "    </tr>\n",
       "    <tr>\n",
       "      <th>Saturday</th>\n",
       "      <td>63.36</td>\n",
       "      <td>23.76</td>\n",
       "      <td>87.15</td>\n",
       "      <td>38.67</td>\n",
       "      <td>23.76</td>\n",
       "      <td>236.70</td>\n",
       "    </tr>\n",
       "    <tr>\n",
       "      <th>Sunday</th>\n",
       "      <td>15.84</td>\n",
       "      <td>21.78</td>\n",
       "      <td>18.84</td>\n",
       "      <td>5.94</td>\n",
       "      <td>149.66</td>\n",
       "      <td>212.06</td>\n",
       "    </tr>\n",
       "    <tr>\n",
       "      <th>Thursday</th>\n",
       "      <td>45.56</td>\n",
       "      <td>43.58</td>\n",
       "      <td>47.52</td>\n",
       "      <td>3.96</td>\n",
       "      <td>77.27</td>\n",
       "      <td>217.89</td>\n",
       "    </tr>\n",
       "    <tr>\n",
       "      <th>Tuesday</th>\n",
       "      <td>1.98</td>\n",
       "      <td>22.78</td>\n",
       "      <td>1.98</td>\n",
       "      <td>9.90</td>\n",
       "      <td>123.77</td>\n",
       "      <td>160.41</td>\n",
       "    </tr>\n",
       "    <tr>\n",
       "      <th>Wednesday</th>\n",
       "      <td>26.73</td>\n",
       "      <td>90.09</td>\n",
       "      <td>11.88</td>\n",
       "      <td>24.75</td>\n",
       "      <td>41.62</td>\n",
       "      <td>195.07</td>\n",
       "    </tr>\n",
       "    <tr>\n",
       "      <th>All</th>\n",
       "      <td>190.10</td>\n",
       "      <td>303.96</td>\n",
       "      <td>195.10</td>\n",
       "      <td>156.48</td>\n",
       "      <td>523.06</td>\n",
       "      <td>1368.70</td>\n",
       "    </tr>\n",
       "  </tbody>\n",
       "</table>\n",
       "</div>"
      ],
      "text/plain": [
       "Country     Brazil  Canada  France  Germany     USA      All\n",
       "InvoiceDOW                                                  \n",
       "Friday       16.83   58.41    1.98     8.91   87.18   173.31\n",
       "Monday       19.80   43.56   25.75    64.35   19.80   173.26\n",
       "Saturday     63.36   23.76   87.15    38.67   23.76   236.70\n",
       "Sunday       15.84   21.78   18.84     5.94  149.66   212.06\n",
       "Thursday     45.56   43.58   47.52     3.96   77.27   217.89\n",
       "Tuesday       1.98   22.78    1.98     9.90  123.77   160.41\n",
       "Wednesday    26.73   90.09   11.88    24.75   41.62   195.07\n",
       "All         190.10  303.96  195.10   156.48  523.06  1368.70"
      ]
     },
     "execution_count": 66,
     "metadata": {},
     "output_type": "execute_result"
    }
   ],
   "source": [
    "## Your code here\n",
    "top5data['InvoiceDOW'] = top5data[\"InvoiceDate\"].dt.day_name()\n",
    "\n",
    "pd.crosstab(\n",
    "    index = top5data['InvoiceDOW'],\n",
    "    columns = top5data[\"Country\"],\n",
    "    values = top5data[\"Total\"],\n",
    "    aggfunc = 'sum',\n",
    "    margins = True\n",
    ")"
   ]
  },
  {
   "cell_type": "markdown",
   "metadata": {},
   "source": [
    "Selain Perancis, Anda juga tertarik untuk menganalisa pendapatan harian yang diperoleh dari top 5 negara dengan pendapatan tertinggi. Menggunakan dataframe `top5data`, lakukanlah agregasi untuk mengetahui **jumlah** penjualan masing-masing hari dari keseluruhan negara tersebut.\n",
    "\n",
    "\n",
    "4. Berdasarkan agregasi data yang Anda lakukan diatas, jawablah 2 pertanyaan berikut: Berapa jumlah penjualan (`Total`) yang kita hasilkan dari total(`sum`) pasar Perancis (**France**) pada hari Selasa? Berapa total penjualan yang kita hasilkan dari semua gabungan 5 pasar teratas pada hari Jumat?\n",
    "    - [ ] 160.41 / 173.31  \n",
    "    - [ ] 160.41 / 326.77\n",
    "    - [X] 1.98 / 173.31\n",
    "    - [ ] 1.98 / 326.77"
   ]
  },
  {
   "cell_type": "code",
   "execution_count": 26,
   "metadata": {
    "scrolled": true
   },
   "outputs": [
    {
     "data": {
      "text/plain": [
       "1.98"
      ]
     },
     "execution_count": 26,
     "metadata": {},
     "output_type": "execute_result"
    }
   ],
   "source": [
    "## Your code here\n",
    "cond = top5data['InvoiceDOW'] == \"Tuesday\"\n",
    "cond1 = top5data[\"Country\"] == \"France\"\n",
    "\n",
    "France = top5data[(cond) & (cond1)]\n",
    "France[\"Total\"].sum()"
   ]
  },
  {
   "cell_type": "code",
   "execution_count": 27,
   "metadata": {},
   "outputs": [
    {
     "data": {
      "text/plain": [
       "173.31"
      ]
     },
     "execution_count": 27,
     "metadata": {},
     "output_type": "execute_result"
    }
   ],
   "source": [
    "cond2 = top5data['InvoiceDOW'] == 'Friday'\n",
    "top5_Friday = top5data[cond2]\n",
    "top5_Friday['Total'].sum()"
   ]
  },
  {
   "cell_type": "markdown",
   "metadata": {},
   "source": [
    "Hasil analisa jumlah pendapatan harian masing-masing negara diatas akan dibuat sebuah visualisasi sebagai bahan untuk reporting Anda. Simpanlah agregasi data tersebut kedalam sebuah variabel. Apabila Anda menggunakan parameter `margin` dalam membuat agregasi data, hapuslah terlebih dahulu agar memudahkan visualisasi. Buatlah visualisasi dengan metode `.plot()` dengan mengatur parameter `kind` untuk membuat salah satu jenis plot berikut:` line`, `bar`,` scatter` & `box`.\n",
    "\n",
    "5. Berdasarkan analisa diatas, manakah jenis plot yang **PALING TIDAK SESUAI** digunakan?\n",
    "    - [ ] `line`\n",
    "    - [ ] `bar`\n",
    "    - [ ] `scatter`\n",
    "    - [X] `box`"
   ]
  },
  {
   "cell_type": "code",
   "execution_count": 45,
   "metadata": {},
   "outputs": [],
   "source": [
    "top5 = pd.crosstab(\n",
    "    index = top5data['InvoiceDOW'],\n",
    "    columns = top5data[\"Country\"],\n",
    "    values = top5data[\"Total\"],\n",
    "    aggfunc = 'sum',\n",
    ")"
   ]
  },
  {
   "cell_type": "code",
   "execution_count": 78,
   "metadata": {},
   "outputs": [],
   "source": [
    "top5n = top5.reset_index()"
   ]
  },
  {
   "cell_type": "code",
   "execution_count": 80,
   "metadata": {},
   "outputs": [
    {
     "data": {
      "text/html": [
       "<div>\n",
       "<style scoped>\n",
       "    .dataframe tbody tr th:only-of-type {\n",
       "        vertical-align: middle;\n",
       "    }\n",
       "\n",
       "    .dataframe tbody tr th {\n",
       "        vertical-align: top;\n",
       "    }\n",
       "\n",
       "    .dataframe thead th {\n",
       "        text-align: right;\n",
       "    }\n",
       "</style>\n",
       "<table border=\"1\" class=\"dataframe\">\n",
       "  <thead>\n",
       "    <tr style=\"text-align: right;\">\n",
       "      <th>Country</th>\n",
       "      <th>InvoiceDOW</th>\n",
       "      <th>Brazil</th>\n",
       "      <th>Canada</th>\n",
       "      <th>France</th>\n",
       "      <th>Germany</th>\n",
       "      <th>USA</th>\n",
       "    </tr>\n",
       "  </thead>\n",
       "  <tbody>\n",
       "    <tr>\n",
       "      <th>0</th>\n",
       "      <td>Friday</td>\n",
       "      <td>16.83</td>\n",
       "      <td>58.41</td>\n",
       "      <td>1.98</td>\n",
       "      <td>8.91</td>\n",
       "      <td>87.18</td>\n",
       "    </tr>\n",
       "    <tr>\n",
       "      <th>1</th>\n",
       "      <td>Monday</td>\n",
       "      <td>19.80</td>\n",
       "      <td>43.56</td>\n",
       "      <td>25.75</td>\n",
       "      <td>64.35</td>\n",
       "      <td>19.80</td>\n",
       "    </tr>\n",
       "    <tr>\n",
       "      <th>2</th>\n",
       "      <td>Saturday</td>\n",
       "      <td>63.36</td>\n",
       "      <td>23.76</td>\n",
       "      <td>87.15</td>\n",
       "      <td>38.67</td>\n",
       "      <td>23.76</td>\n",
       "    </tr>\n",
       "    <tr>\n",
       "      <th>3</th>\n",
       "      <td>Sunday</td>\n",
       "      <td>15.84</td>\n",
       "      <td>21.78</td>\n",
       "      <td>18.84</td>\n",
       "      <td>5.94</td>\n",
       "      <td>149.66</td>\n",
       "    </tr>\n",
       "    <tr>\n",
       "      <th>4</th>\n",
       "      <td>Thursday</td>\n",
       "      <td>45.56</td>\n",
       "      <td>43.58</td>\n",
       "      <td>47.52</td>\n",
       "      <td>3.96</td>\n",
       "      <td>77.27</td>\n",
       "    </tr>\n",
       "    <tr>\n",
       "      <th>5</th>\n",
       "      <td>Tuesday</td>\n",
       "      <td>1.98</td>\n",
       "      <td>22.78</td>\n",
       "      <td>1.98</td>\n",
       "      <td>9.90</td>\n",
       "      <td>123.77</td>\n",
       "    </tr>\n",
       "    <tr>\n",
       "      <th>6</th>\n",
       "      <td>Wednesday</td>\n",
       "      <td>26.73</td>\n",
       "      <td>90.09</td>\n",
       "      <td>11.88</td>\n",
       "      <td>24.75</td>\n",
       "      <td>41.62</td>\n",
       "    </tr>\n",
       "  </tbody>\n",
       "</table>\n",
       "</div>"
      ],
      "text/plain": [
       "Country InvoiceDOW  Brazil  Canada  France  Germany     USA\n",
       "0           Friday   16.83   58.41    1.98     8.91   87.18\n",
       "1           Monday   19.80   43.56   25.75    64.35   19.80\n",
       "2         Saturday   63.36   23.76   87.15    38.67   23.76\n",
       "3           Sunday   15.84   21.78   18.84     5.94  149.66\n",
       "4         Thursday   45.56   43.58   47.52     3.96   77.27\n",
       "5          Tuesday    1.98   22.78    1.98     9.90  123.77\n",
       "6        Wednesday   26.73   90.09   11.88    24.75   41.62"
      ]
     },
     "execution_count": 80,
     "metadata": {},
     "output_type": "execute_result"
    }
   ],
   "source": [
    "top5n"
   ]
  },
  {
   "cell_type": "code",
   "execution_count": 81,
   "metadata": {
    "scrolled": true
   },
   "outputs": [
    {
     "data": {
      "text/plain": [
       "<AxesSubplot:xlabel='InvoiceDOW', ylabel='USA'>"
      ]
     },
     "execution_count": 81,
     "metadata": {},
     "output_type": "execute_result"
    },
    {
     "data": {
      "image/png": "[encoded data removed]",
      "text/plain": [
       "<Figure size 432x288 with 1 Axes>"
      ]
     },
     "metadata": {
      "needs_background": "light"
     },
     "output_type": "display_data"
    }
   ],
   "source": [
    "## Your code here\n",
    "top5n.reset_index().plot(kind = 'scatter', x = 'InvoiceDOW', y = \"USA\")"
   ]
  },
  {
   "cell_type": "code",
   "execution_count": 82,
   "metadata": {},
   "outputs": [
    {
     "data": {
      "text/plain": [
       "<AxesSubplot:>"
      ]
     },
     "execution_count": 82,
     "metadata": {},
     "output_type": "execute_result"
    },
    {
     "data": {
      "image/png": "[encoded data removed]",
      "text/plain": [
       "<Figure size 432x288 with 1 Axes>"
      ]
     },
     "metadata": {
      "needs_background": "light"
     },
     "output_type": "display_data"
    }
   ],
   "source": [
    "top5.plot(kind = \"box\")"
   ]
  },
  {
   "cell_type": "markdown",
   "metadata": {},
   "source": [
    "Misalkan kita ingin membandingkan genre musik terlaris di 5 negara teratas. Mari kita coba dengan mengisi terlebih dahulu kode yang rumpang (______) di bawah ini:\n",
    "```\n",
    "genre = pd.read_sql_query(\n",
    "    '''\n",
    "    SELECT \n",
    "    BillingCountry AS Country, ______.Name AS Genre \n",
    "    FROM ______ \n",
    "    LEFT JOIN invoice_items ON invoices.______ = invoice_items.______\n",
    "    LEFT JOIN tracks ON invoice_items.______ = ______.______ \n",
    "    LEFT JOIN ______ ON tracks.______ = genres.______\n",
    "    WHERE BillingCountry IN ('USA', 'Canada', 'France', 'Brazil', 'Germany')\n",
    "    ''',conn)\n",
    "```\n"
   ]
  },
  {
   "cell_type": "code",
   "execution_count": 91,
   "metadata": {},
   "outputs": [
    {
     "data": {
      "text/html": [
       "<div>\n",
       "<style scoped>\n",
       "    .dataframe tbody tr th:only-of-type {\n",
       "        vertical-align: middle;\n",
       "    }\n",
       "\n",
       "    .dataframe tbody tr th {\n",
       "        vertical-align: top;\n",
       "    }\n",
       "\n",
       "    .dataframe thead th {\n",
       "        text-align: right;\n",
       "    }\n",
       "</style>\n",
       "<table border=\"1\" class=\"dataframe\">\n",
       "  <thead>\n",
       "    <tr style=\"text-align: right;\">\n",
       "      <th></th>\n",
       "      <th>Country</th>\n",
       "      <th>Genre</th>\n",
       "    </tr>\n",
       "  </thead>\n",
       "  <tbody>\n",
       "    <tr>\n",
       "      <th>0</th>\n",
       "      <td>Germany</td>\n",
       "      <td>Rock</td>\n",
       "    </tr>\n",
       "    <tr>\n",
       "      <th>1</th>\n",
       "      <td>Germany</td>\n",
       "      <td>Rock</td>\n",
       "    </tr>\n",
       "    <tr>\n",
       "      <th>2</th>\n",
       "      <td>Canada</td>\n",
       "      <td>Rock</td>\n",
       "    </tr>\n",
       "    <tr>\n",
       "      <th>3</th>\n",
       "      <td>Canada</td>\n",
       "      <td>Rock</td>\n",
       "    </tr>\n",
       "    <tr>\n",
       "      <th>4</th>\n",
       "      <td>Canada</td>\n",
       "      <td>Rock</td>\n",
       "    </tr>\n",
       "    <tr>\n",
       "      <th>...</th>\n",
       "      <td>...</td>\n",
       "      <td>...</td>\n",
       "    </tr>\n",
       "    <tr>\n",
       "      <th>1325</th>\n",
       "      <td>Canada</td>\n",
       "      <td>Rock</td>\n",
       "    </tr>\n",
       "    <tr>\n",
       "      <th>1326</th>\n",
       "      <td>Canada</td>\n",
       "      <td>Rock</td>\n",
       "    </tr>\n",
       "    <tr>\n",
       "      <th>1327</th>\n",
       "      <td>Canada</td>\n",
       "      <td>Rock</td>\n",
       "    </tr>\n",
       "    <tr>\n",
       "      <th>1328</th>\n",
       "      <td>Canada</td>\n",
       "      <td>Rock</td>\n",
       "    </tr>\n",
       "    <tr>\n",
       "      <th>1329</th>\n",
       "      <td>Canada</td>\n",
       "      <td>Rock</td>\n",
       "    </tr>\n",
       "  </tbody>\n",
       "</table>\n",
       "<p>1330 rows × 2 columns</p>\n",
       "</div>"
      ],
      "text/plain": [
       "      Country Genre\n",
       "0     Germany  Rock\n",
       "1     Germany  Rock\n",
       "2      Canada  Rock\n",
       "3      Canada  Rock\n",
       "4      Canada  Rock\n",
       "...       ...   ...\n",
       "1325   Canada  Rock\n",
       "1326   Canada  Rock\n",
       "1327   Canada  Rock\n",
       "1328   Canada  Rock\n",
       "1329   Canada  Rock\n",
       "\n",
       "[1330 rows x 2 columns]"
      ]
     },
     "execution_count": 91,
     "metadata": {},
     "output_type": "execute_result"
    }
   ],
   "source": [
    "## Your code here\n",
    "genre = pd.read_sql_query(\n",
    "    '''\n",
    "    SELECT \n",
    "    BillingCountry AS Country, genres.Name AS Genre \n",
    "    FROM invoices\n",
    "    LEFT JOIN invoice_items ON invoices.InvoiceId = invoice_items.InvoiceId\n",
    "    LEFT JOIN tracks ON invoice_items.TrackId = tracks.TrackId \n",
    "    LEFT JOIN genres ON tracks.GenreId = genres.GenreId\n",
    "    WHERE BillingCountry IN ('USA', 'Canada', 'France', 'Brazil', 'Germany')\n",
    "    ''',conn)\n",
    "genre"
   ]
  },
  {
   "cell_type": "markdown",
   "metadata": {},
   "source": [
    "Setelah Anda menyelesaikan query untuk dataframe `genre` di atas, salin dan jalankan kode di bawah ini untuk membuat diagram batang yang membandingkan genre lagu terlaris per negara.\n",
    "```\n",
    "genre.\\\n",
    "groupby(['Country','Genre']).size().reset_index(name = 'Total Bought').\\\n",
    "sort_values(['Country','Total Bought'], ascending=False).\\\n",
    "groupby('Country').head(5).\\\n",
    "pivot(index = 'Country', columns = 'Genre').plot(kind='bar',stacked=True).\\\n",
    "legend(bbox_to_anchor=(1, 1), loc=2) \n",
    "```\n",
    "6. Genre apa yang **TIDAK** termasuk dalam genre terlaris di Jerman (Germany)?\n",
    "   - [ ] Blues\n",
    "   - [X] Jazz\n",
    "   - [ ] Alternative & Punk\n",
    "   - [ ] Latin"
   ]
  },
  {
   "cell_type": "code",
   "execution_count": 52,
   "metadata": {
    "scrolled": false
   },
   "outputs": [
    {
     "data": {
      "text/plain": [
       "<matplotlib.legend.Legend at 0x24f89f81ee0>"
      ]
     },
     "execution_count": 52,
     "metadata": {},
     "output_type": "execute_result"
    },
    {
     "data": {
      "image/png": "[encoded data removed]",
      "text/plain": [
       "<Figure size 432x288 with 1 Axes>"
      ]
     },
     "metadata": {
      "needs_background": "light"
     },
     "output_type": "display_data"
    }
   ],
   "source": [
    "## Your code here\n",
    "genre.\\\n",
    "groupby(['Country','Genre']).size().reset_index(name = 'Total Bought').\\\n",
    "sort_values(['Country','Total Bought'], ascending=False).\\\n",
    "groupby('Country').head(5).\\\n",
    "pivot(index = 'Country', columns = 'Genre').plot(kind='bar',stacked=True).\\\n",
    "legend(bbox_to_anchor=(1, 1), loc=2) "
   ]
  }
 ],
 "metadata": {
  "kernelspec": {
   "display_name": "sparta_da",
   "language": "python",
   "name": "sparta_da"
  },
  "language_info": {
   "codemirror_mode": {
    "name": "ipython",
    "version": 3
   },
   "file_extension": ".py",
   "mimetype": "text/x-python",
   "name": "python",
   "nbconvert_exporter": "python",
   "pygments_lexer": "ipython3",
   "version": "3.9.12"
  },
  "latex_envs": {
   "LaTeX_envs_menu_present": true,
   "autoclose": false,
   "autocomplete": true,
   "bibliofile": "biblio.bib",
   "cite_by": "apalike",
   "current_citInitial": 1,
   "eqLabelWithNumbers": true,
   "eqNumInitial": 1,
   "hotkeys": {
    "equation": "Ctrl-E",
    "itemize": "Ctrl-I"
   },
   "labels_anchors": false,
   "latex_user_defs": false,
   "report_style_numbering": false,
   "user_envs_cfg": false
  },
  "toc": {
   "base_numbering": 1,
   "nav_menu": {},
   "number_sections": true,
   "sideBar": true,
   "skip_h1_title": false,
   "title_cell": "Table of Contents",
   "title_sidebar": "Contents",
   "toc_cell": false,
   "toc_position": {},
   "toc_section_display": true,
   "toc_window_display": false
  }
 },
 "nbformat": 4,
 "nbformat_minor": 4
}
