{
 "cells": [
  {
   "cell_type": "markdown",
   "metadata": {},
   "source": [
    "# Quiz: Exploratory Data Analysis\n",
    "\n",
    "Kuis ini merupakan bagian dari proses penilaian *Algoritma Academy*. Selamat anda sudah menyelesaikan materi *Exploratory Data Analysis*! Kami akan melakukan penilaian berupa kuis untuk menguji materi yang sudah dipelajari. Pengerjaan Kuis diharapkan dapat dilakukan di dalam kelas, silakan hubungi tim pengajar kami jika Anda melewatkan kesempatan untuk mengambilnya di kelas."
   ]
  },
  {
   "cell_type": "markdown",
   "metadata": {},
   "source": [
    "# Dataset Bukalapak"
   ]
  },
  {
   "cell_type": "markdown",
   "metadata": {},
   "source": [
    "## Data Preparation\n",
    "\n",
    "Pada kuis ini kita akan menggunakan **e-commerce product dataset**. Anda dapat menggunakan data `online_bl.csv` yang tersimpan dalam folder `data_input`. \n",
    "\n",
    "Data berisi informasi produk yang dijual pada website e-commerce bukalapak.com. Data tersebut memiliki beberapa variable antara lain :\n",
    "\n",
    "- `item_link` : link website produk dalam list  \n",
    "- `title` : nama produk yang dijual\n",
    "- `price_original` : harga produk\n",
    "- `price_discount` : harga discount produk\n",
    "- `sub_category` : sub-category produk\n",
    "- `time_update` : waktu unggah informasi produk pada website\n",
    "- `scale` : skala satuan product"
   ]
  },
  {
   "cell_type": "markdown",
   "metadata": {},
   "source": [
    "Silahkan import data `online_bl.csv` dari folder `data_input` dan simpan kedalam variabel `online_bl`. Gunakan parameter `parse_dates=[__]` pada method `read_csv()` untuk mengubah tipe data pada kolom `time_update`. "
   ]
  },
  {
   "cell_type": "code",
   "execution_count": 2,
   "metadata": {},
   "outputs": [
    {
     "data": {
      "text/html": [
       "<div>\n",
       "<style scoped>\n",
       "    .dataframe tbody tr th:only-of-type {\n",
       "        vertical-align: middle;\n",
       "    }\n",
       "\n",
       "    .dataframe tbody tr th {\n",
       "        vertical-align: top;\n",
       "    }\n",
       "\n",
       "    .dataframe thead th {\n",
       "        text-align: right;\n",
       "    }\n",
       "</style>\n",
       "<table border=\"1\" class=\"dataframe\">\n",
       "  <thead>\n",
       "    <tr style=\"text-align: right;\">\n",
       "      <th></th>\n",
       "      <th>item_link</th>\n",
       "      <th>title</th>\n",
       "      <th>price_original</th>\n",
       "      <th>price_discount</th>\n",
       "      <th>sub_category</th>\n",
       "      <th>time_update</th>\n",
       "      <th>scale</th>\n",
       "    </tr>\n",
       "  </thead>\n",
       "  <tbody>\n",
       "    <tr>\n",
       "      <th>0</th>\n",
       "      <td>https://www.bukalapak.com/p/kesehatan-2359/pro...</td>\n",
       "      <td>Rinso Molto Deterjen Bubuk 1.8 kg</td>\n",
       "      <td>30000.0</td>\n",
       "      <td>NaN</td>\n",
       "      <td>detergent</td>\n",
       "      <td>2018-10-20 01:32:00</td>\n",
       "      <td>1.8 kg</td>\n",
       "    </tr>\n",
       "    <tr>\n",
       "      <th>1</th>\n",
       "      <td>https://www.bukalapak.com/p/rumah-tangga/home-...</td>\n",
       "      <td>Terlaris - DETERGENT RINSO ANTI NODA 1.8 KG 1 ...</td>\n",
       "      <td>49000.0</td>\n",
       "      <td>NaN</td>\n",
       "      <td>detergent</td>\n",
       "      <td>2018-09-20 01:02:00</td>\n",
       "      <td>1.8 kg</td>\n",
       "    </tr>\n",
       "    <tr>\n",
       "      <th>2</th>\n",
       "      <td>https://www.bukalapak.com/p/rumah-tangga/home-...</td>\n",
       "      <td>Good Rinso Molto Purple 1.8 Kg</td>\n",
       "      <td>50000.0</td>\n",
       "      <td>NaN</td>\n",
       "      <td>detergent</td>\n",
       "      <td>2018-10-13 10:46:00</td>\n",
       "      <td>1.8 kg</td>\n",
       "    </tr>\n",
       "    <tr>\n",
       "      <th>3</th>\n",
       "      <td>https://www.bukalapak.com/p/rumah-tangga/home-...</td>\n",
       "      <td>Order Rinso Molto Purple 1.8 Kg</td>\n",
       "      <td>49000.0</td>\n",
       "      <td>NaN</td>\n",
       "      <td>detergent</td>\n",
       "      <td>2018-09-24 15:17:00</td>\n",
       "      <td>1.8 kg</td>\n",
       "    </tr>\n",
       "    <tr>\n",
       "      <th>4</th>\n",
       "      <td>https://www.bukalapak.com/p/rumah-tangga/home-...</td>\n",
       "      <td>Promonya Rinso Molto Purple 1.8 Kg</td>\n",
       "      <td>49000.0</td>\n",
       "      <td>NaN</td>\n",
       "      <td>detergent</td>\n",
       "      <td>2018-09-27 11:16:00</td>\n",
       "      <td>1.8 kg</td>\n",
       "    </tr>\n",
       "  </tbody>\n",
       "</table>\n",
       "</div>"
      ],
      "text/plain": [
       "                                           item_link  \\\n",
       "0  https://www.bukalapak.com/p/kesehatan-2359/pro...   \n",
       "1  https://www.bukalapak.com/p/rumah-tangga/home-...   \n",
       "2  https://www.bukalapak.com/p/rumah-tangga/home-...   \n",
       "3  https://www.bukalapak.com/p/rumah-tangga/home-...   \n",
       "4  https://www.bukalapak.com/p/rumah-tangga/home-...   \n",
       "\n",
       "                                               title  price_original  \\\n",
       "0                  Rinso Molto Deterjen Bubuk 1.8 kg         30000.0   \n",
       "1  Terlaris - DETERGENT RINSO ANTI NODA 1.8 KG 1 ...         49000.0   \n",
       "2                     Good Rinso Molto Purple 1.8 Kg         50000.0   \n",
       "3                    Order Rinso Molto Purple 1.8 Kg         49000.0   \n",
       "4                 Promonya Rinso Molto Purple 1.8 Kg         49000.0   \n",
       "\n",
       "   price_discount sub_category         time_update   scale  \n",
       "0             NaN    detergent 2018-10-20 01:32:00  1.8 kg  \n",
       "1             NaN    detergent 2018-09-20 01:02:00  1.8 kg  \n",
       "2             NaN    detergent 2018-10-13 10:46:00  1.8 kg  \n",
       "3             NaN    detergent 2018-09-24 15:17:00  1.8 kg  \n",
       "4             NaN    detergent 2018-09-27 11:16:00  1.8 kg  "
      ]
     },
     "execution_count": 2,
     "metadata": {},
     "output_type": "execute_result"
    }
   ],
   "source": [
    "## Import Library & Read Data\n",
    "import pandas as pd\n",
    "\n",
    "online_bl = pd.read_csv(\"data_input/online_bl.csv\", parse_dates=[\"time_update\"])\n",
    "online_bl.head()"
   ]
  },
  {
   "cell_type": "markdown",
   "metadata": {},
   "source": [
    "Anda akan melakukan eksplorasi data `online_bl` untuk memastikan bahwa data tersebut siap untuk dianalisis. Hal yang pertama akan Anda lakukan adalah melakukan pengecekan tipe data."
   ]
  },
  {
   "cell_type": "code",
   "execution_count": 3,
   "metadata": {},
   "outputs": [
    {
     "data": {
      "text/plain": [
       "item_link                 object\n",
       "title                     object\n",
       "price_original           float64\n",
       "price_discount           float64\n",
       "sub_category              object\n",
       "time_update       datetime64[ns]\n",
       "scale                     object\n",
       "dtype: object"
      ]
     },
     "execution_count": 3,
     "metadata": {},
     "output_type": "execute_result"
    }
   ],
   "source": [
    "# your code here\n",
    "online_bl.dtypes"
   ]
  },
  {
   "cell_type": "markdown",
   "metadata": {},
   "source": [
    "Terdapat kolom yang perlu disesuaikan tipe datanya yaitu kolom `sub_category`. Silahkan lakukan pengubahan tipe data pada kolom tersebut kedalam tipe data yang sesuai."
   ]
  },
  {
   "cell_type": "code",
   "execution_count": 4,
   "metadata": {},
   "outputs": [
    {
     "data": {
      "text/plain": [
       "item_link                 object\n",
       "title                     object\n",
       "price_original           float64\n",
       "price_discount           float64\n",
       "sub_category            category\n",
       "time_update       datetime64[ns]\n",
       "scale                     object\n",
       "dtype: object"
      ]
     },
     "execution_count": 4,
     "metadata": {},
     "output_type": "execute_result"
    }
   ],
   "source": [
    "# your code here\n",
    "online_bl['sub_category'] = online_bl['sub_category'].astype(\"category\")\n",
    "online_bl.dtypes"
   ]
  },
  {
   "cell_type": "markdown",
   "metadata": {},
   "source": [
    "## Analisis\n",
    "\n",
    "Data `online_bl` menyimpan data beragam barang yang dijual pada suatu e-commerce. Anda diminta untuk melakukan analisis terhadap data untuk menjawab beberapa pertanyaan yang ada."
   ]
  },
  {
   "cell_type": "markdown",
   "metadata": {
    "tags": []
   },
   "source": [
    "### Jenis Barang\n",
    "\n",
    "Anda ingin mencari tahu jenis barang apa saja yang dijual dan jenis barang apakah yang paling banyak dijual pada e-commerce tersebut. Menggunakan informasi dari kolom `sub_category`, silahkan jawab pertanyaan di bawah ini.\n",
    "\n",
    "1. Berapa banyak jenis barang (`sub_category`) unik yang ada dalam kumpulan data `online_bl`? Apakah kita memiliki lebih banyak produk \"detergent\" atau \"sugar\" pada data tersebut?\n",
    "\n",
    "    - [ ] 2, dimana \"detergent\" lebih banyak dari pada \"Sugar\"\n",
    "    - [ ] 2, dimana \"detergent\" dan \"sugar\" memiliki jumlah produk sama banyak\n",
    "    - [X] 3, dimana \"sugar\" lebih banyak dari pada detergent\n",
    "    - [ ] tidak ada opsi yang benar "
   ]
  },
  {
   "cell_type": "markdown",
   "metadata": {},
   "source": [
    "- Opsi jawaban Bahasa Inggris:\n",
    "\n",
    "    - [ ] 2, with more \"detergent\" than \"sugar\"\n",
    "    - [ ] 2, with \"detergent\" and \"sugar\" having equal listings\n",
    "    - [X] 3, with more \"sugar\" than detergent\n",
    "    - [ ] None of above is correct"
   ]
  },
  {
   "cell_type": "code",
   "execution_count": 5,
   "metadata": {
    "scrolled": true
   },
   "outputs": [
    {
     "data": {
      "text/plain": [
       "3"
      ]
     },
     "execution_count": 5,
     "metadata": {},
     "output_type": "execute_result"
    }
   ],
   "source": [
    "# your code here\n",
    "online_bl[\"sub_category\"].nunique()"
   ]
  },
  {
   "cell_type": "code",
   "execution_count": 6,
   "metadata": {
    "scrolled": true
   },
   "outputs": [
    {
     "data": {
      "text/plain": [
       "Index(['detergent', 'rice', 'sugar'], dtype='object')"
      ]
     },
     "execution_count": 6,
     "metadata": {},
     "output_type": "execute_result"
    }
   ],
   "source": [
    "online_bl[\"sub_category\"].cat.categories"
   ]
  },
  {
   "cell_type": "code",
   "execution_count": 7,
   "metadata": {},
   "outputs": [
    {
     "data": {
      "text/plain": [
       "rice         425\n",
       "sugar        213\n",
       "detergent    106\n",
       "Name: sub_category, dtype: int64"
      ]
     },
     "execution_count": 7,
     "metadata": {},
     "output_type": "execute_result"
    }
   ],
   "source": [
    "online_bl[\"sub_category\"].value_counts()"
   ]
  },
  {
   "cell_type": "markdown",
   "metadata": {},
   "source": [
    "### Skala Barang\n",
    "\n",
    "Berdasarkan beberapa jenis barang yang dijual diatas, setiap barang dijual dengan beberapa ukuran berdasarkan beratnya, termasuk deterjen. Deterjen yang ada di pasaran memiliki beberapa pilihan ukuran (1kg, 1.8kg, dsb). \n",
    "\n",
    "2. Deterjen dengan ukuran berapakah yang paling banyak dijual di situs Bukalapak?\n",
    "\n",
    "    - [ ] 1 kg\n",
    "    - [X] 1.8 kg\n",
    "    - [ ] 5 kg\n",
    "    - [ ] 800 gr"
   ]
  },
  {
   "cell_type": "code",
   "execution_count": 8,
   "metadata": {
    "scrolled": true
   },
   "outputs": [
    {
     "data": {
      "text/plain": [
       "1.8 kg    88\n",
       "800 gr    18\n",
       "Name: scale, dtype: int64"
      ]
     },
     "execution_count": 8,
     "metadata": {},
     "output_type": "execute_result"
    }
   ],
   "source": [
    "cond = online_bl[\"sub_category\"] == \"detergent\"\n",
    "online_bl_det = online_bl[cond]\n",
    "\n",
    "online_bl_det[\"scale\"].value_counts()"
   ]
  },
  {
   "cell_type": "markdown",
   "metadata": {},
   "source": [
    "Anda sedang membutuhkan produk deterjen. Berdasarkan informasi ukuran deterjen serta harga yang dipasarkan, Anda tertarik untuk membeli deterjen dengan ukuran 1,8 kg dan 800 gram. Namun, Anda ingin mengetahui pada bulan apa deterjen dengan ukuran tersebut dijual dengan rata-rata harga terendah.  \n",
    "\n",
    "3. Di bulan apakah produk deterjen dengan ukuran 1,8 kg dan 800 gram berada di rata-rata harga terendah? Apakah keduanya berada di bulan yang sama?\n",
    "\n",
    "    - [X] Detergen 1.8 kg maupun 800 gr memiliki harga terendah di bulan Agustus\n",
    "    - [ ] Detergen 1.8 kg maupun 800 gr memiliki harga terendah di bulan Oktober\n",
    "    - [ ] Detergen 1.8 kg: terendah di Agustus, Detergen 800 gr: terendah di Oktober\n",
    "    - [ ] Detergen 1.8 kg: terendah di August, Detergen 800 gr: terendah di July \n",
    "    \n",
    "- Opsi Jawaban Bahasa Inggris:\n",
    "\n",
    "    - [X] Both 1.8 kg and 800 gr detergents lowest price were in August\n",
    "    - [ ] Both 1.8 kg and 800 gr detergents lowest price were in October\n",
    "    - [ ] 1.8 kg detergents: Lowest in August, 800 gr: Lowest in October\n",
    "    - [ ] 1.8 kg detergents: Lowest in August, 800 gr: Lowest in July   "
   ]
  },
  {
   "cell_type": "code",
   "execution_count": 9,
   "metadata": {
    "scrolled": false
   },
   "outputs": [
    {
     "data": {
      "text/html": [
       "<div>\n",
       "<style scoped>\n",
       "    .dataframe tbody tr th:only-of-type {\n",
       "        vertical-align: middle;\n",
       "    }\n",
       "\n",
       "    .dataframe tbody tr th {\n",
       "        vertical-align: top;\n",
       "    }\n",
       "\n",
       "    .dataframe thead th {\n",
       "        text-align: right;\n",
       "    }\n",
       "</style>\n",
       "<table border=\"1\" class=\"dataframe\">\n",
       "  <thead>\n",
       "    <tr style=\"text-align: right;\">\n",
       "      <th>scale</th>\n",
       "      <th>1.8 kg</th>\n",
       "      <th>800 gr</th>\n",
       "    </tr>\n",
       "    <tr>\n",
       "      <th>month</th>\n",
       "      <th></th>\n",
       "      <th></th>\n",
       "    </tr>\n",
       "  </thead>\n",
       "  <tbody>\n",
       "    <tr>\n",
       "      <th>August</th>\n",
       "      <td>31000.000000</td>\n",
       "      <td>20000.000000</td>\n",
       "    </tr>\n",
       "    <tr>\n",
       "      <th>July</th>\n",
       "      <td>40000.000000</td>\n",
       "      <td>30000.000000</td>\n",
       "    </tr>\n",
       "    <tr>\n",
       "      <th>October</th>\n",
       "      <td>41191.836735</td>\n",
       "      <td>21945.454545</td>\n",
       "    </tr>\n",
       "    <tr>\n",
       "      <th>September</th>\n",
       "      <td>42750.000000</td>\n",
       "      <td>33475.000000</td>\n",
       "    </tr>\n",
       "  </tbody>\n",
       "</table>\n",
       "</div>"
      ],
      "text/plain": [
       "scale            1.8 kg        800 gr\n",
       "month                                \n",
       "August     31000.000000  20000.000000\n",
       "July       40000.000000  30000.000000\n",
       "October    41191.836735  21945.454545\n",
       "September  42750.000000  33475.000000"
      ]
     },
     "execution_count": 9,
     "metadata": {},
     "output_type": "execute_result"
    }
   ],
   "source": [
    "# Sortil khusus produk detergent\n",
    "cond = online_bl[\"sub_category\"] == \"detergent\"\n",
    "online_bl_det = online_bl[cond]\n",
    "\n",
    "# Sortil khusus produk \"1.8 kg\" dan \"800 gr\" \n",
    "cond1 = online_bl_det[\"scale\"] == \"1.8 kg\"\n",
    "cond2 = online_bl_det[\"scale\"] == \"800 gr\"\n",
    "online_bl_det = online_bl_det[(cond1) | (cond2)]\n",
    "\n",
    "# Membuat kolom baru month\n",
    "online_bl_det[\"month\"] = online_bl_det[\"time_update\"].dt.month_name()\n",
    "\n",
    "# Membuat agregation tables\n",
    "online_bl_det.pivot_table(\n",
    "    index=\"month\",\n",
    "    columns=\"scale\",\n",
    "    values=\"price_original\",\n",
    "    aggfunc='mean'\n",
    ")"
   ]
  },
  {
   "cell_type": "markdown",
   "metadata": {},
   "source": [
    "---"
   ]
  },
  {
   "cell_type": "markdown",
   "metadata": {},
   "source": [
    "# Dataset Fund Raising"
   ]
  },
  {
   "cell_type": "markdown",
   "metadata": {},
   "source": [
    "## Data Preparation\n",
    "\n",
    "Pada analisa kedua, Anda akan menggunakan data **fund raising** yang diperoleh beberapa perusahaan startup di Amerika. Silahkan gunakan data `techcrunch.csv` dari folder `data_input`.  Dataset mengandung variable sebagai berikut :\n",
    "\n",
    "- `permalink` : nama permalink company\n",
    "- `company` : nama perusahaan (company)\n",
    "- `numEmps` : banyaknya media partner\n",
    "- `category` : kategori perusahaan\n",
    "- `city` : nama kota lokasi perusahaan\n",
    "- `state` : kode negara bagian lokasi perusahaan\n",
    "- `fundedDate` : tanggal pendanaan\n",
    "- `raisedAmt` : jumlah pendanaan yang diperoleh\n",
    "- `raisedCurrency` : informasi"
   ]
  },
  {
   "cell_type": "code",
   "execution_count": 10,
   "metadata": {
    "ExecuteTime": {
     "end_time": "2021-07-22T09:50:36.949168Z",
     "start_time": "2021-07-22T09:50:36.934155Z"
    },
    "scrolled": false
   },
   "outputs": [
    {
     "data": {
      "text/html": [
       "<div>\n",
       "<style scoped>\n",
       "    .dataframe tbody tr th:only-of-type {\n",
       "        vertical-align: middle;\n",
       "    }\n",
       "\n",
       "    .dataframe tbody tr th {\n",
       "        vertical-align: top;\n",
       "    }\n",
       "\n",
       "    .dataframe thead th {\n",
       "        text-align: right;\n",
       "    }\n",
       "</style>\n",
       "<table border=\"1\" class=\"dataframe\">\n",
       "  <thead>\n",
       "    <tr style=\"text-align: right;\">\n",
       "      <th></th>\n",
       "      <th>permalink</th>\n",
       "      <th>company</th>\n",
       "      <th>numEmps</th>\n",
       "      <th>category</th>\n",
       "      <th>city</th>\n",
       "      <th>state</th>\n",
       "      <th>fundedDate</th>\n",
       "      <th>raisedAmt</th>\n",
       "      <th>raisedCurrency</th>\n",
       "      <th>round</th>\n",
       "    </tr>\n",
       "  </thead>\n",
       "  <tbody>\n",
       "    <tr>\n",
       "      <th>0</th>\n",
       "      <td>lifelock</td>\n",
       "      <td>LifeLock</td>\n",
       "      <td>NaN</td>\n",
       "      <td>web</td>\n",
       "      <td>Tempe</td>\n",
       "      <td>AZ</td>\n",
       "      <td>1-May-07</td>\n",
       "      <td>6850000</td>\n",
       "      <td>USD</td>\n",
       "      <td>b</td>\n",
       "    </tr>\n",
       "    <tr>\n",
       "      <th>1</th>\n",
       "      <td>lifelock</td>\n",
       "      <td>LifeLock</td>\n",
       "      <td>NaN</td>\n",
       "      <td>web</td>\n",
       "      <td>Tempe</td>\n",
       "      <td>AZ</td>\n",
       "      <td>1-Oct-06</td>\n",
       "      <td>6000000</td>\n",
       "      <td>USD</td>\n",
       "      <td>a</td>\n",
       "    </tr>\n",
       "    <tr>\n",
       "      <th>2</th>\n",
       "      <td>lifelock</td>\n",
       "      <td>LifeLock</td>\n",
       "      <td>NaN</td>\n",
       "      <td>web</td>\n",
       "      <td>Tempe</td>\n",
       "      <td>AZ</td>\n",
       "      <td>1-Jan-08</td>\n",
       "      <td>25000000</td>\n",
       "      <td>USD</td>\n",
       "      <td>c</td>\n",
       "    </tr>\n",
       "    <tr>\n",
       "      <th>3</th>\n",
       "      <td>mycityfaces</td>\n",
       "      <td>MyCityFaces</td>\n",
       "      <td>7.0</td>\n",
       "      <td>web</td>\n",
       "      <td>Scottsdale</td>\n",
       "      <td>AZ</td>\n",
       "      <td>1-Jan-08</td>\n",
       "      <td>50000</td>\n",
       "      <td>USD</td>\n",
       "      <td>seed</td>\n",
       "    </tr>\n",
       "    <tr>\n",
       "      <th>4</th>\n",
       "      <td>flypaper</td>\n",
       "      <td>Flypaper</td>\n",
       "      <td>NaN</td>\n",
       "      <td>web</td>\n",
       "      <td>Phoenix</td>\n",
       "      <td>AZ</td>\n",
       "      <td>1-Feb-08</td>\n",
       "      <td>3000000</td>\n",
       "      <td>USD</td>\n",
       "      <td>a</td>\n",
       "    </tr>\n",
       "  </tbody>\n",
       "</table>\n",
       "</div>"
      ],
      "text/plain": [
       "     permalink      company  numEmps category        city state fundedDate  \\\n",
       "0     lifelock     LifeLock      NaN      web       Tempe    AZ   1-May-07   \n",
       "1     lifelock     LifeLock      NaN      web       Tempe    AZ   1-Oct-06   \n",
       "2     lifelock     LifeLock      NaN      web       Tempe    AZ   1-Jan-08   \n",
       "3  mycityfaces  MyCityFaces      7.0      web  Scottsdale    AZ   1-Jan-08   \n",
       "4     flypaper     Flypaper      NaN      web     Phoenix    AZ   1-Feb-08   \n",
       "\n",
       "   raisedAmt raisedCurrency round  \n",
       "0    6850000            USD     b  \n",
       "1    6000000            USD     a  \n",
       "2   25000000            USD     c  \n",
       "3      50000            USD  seed  \n",
       "4    3000000            USD     a  "
      ]
     },
     "execution_count": 10,
     "metadata": {},
     "output_type": "execute_result"
    }
   ],
   "source": [
    "## Read Data\n",
    "techcrunch = pd.read_csv('data_input/techcrunch.csv')\n",
    "techcrunch.head()"
   ]
  },
  {
   "cell_type": "code",
   "execution_count": 11,
   "metadata": {},
   "outputs": [
    {
     "name": "stdout",
     "output_type": "stream",
     "text": [
      "<class 'pandas.core.frame.DataFrame'>\n",
      "RangeIndex: 1460 entries, 0 to 1459\n",
      "Data columns (total 10 columns):\n",
      " #   Column          Non-Null Count  Dtype  \n",
      "---  ------          --------------  -----  \n",
      " 0   permalink       1460 non-null   object \n",
      " 1   company         1460 non-null   object \n",
      " 2   numEmps         567 non-null    float64\n",
      " 3   category        1436 non-null   object \n",
      " 4   city            1442 non-null   object \n",
      " 5   state           1460 non-null   object \n",
      " 6   fundedDate      1460 non-null   object \n",
      " 7   raisedAmt       1460 non-null   int64  \n",
      " 8   raisedCurrency  1460 non-null   object \n",
      " 9   round           1460 non-null   object \n",
      "dtypes: float64(1), int64(1), object(8)\n",
      "memory usage: 114.2+ KB\n"
     ]
    }
   ],
   "source": [
    "techcrunch.info()"
   ]
  },
  {
   "cell_type": "code",
   "execution_count": 12,
   "metadata": {
    "scrolled": true
   },
   "outputs": [
    {
     "data": {
      "text/plain": [
       "permalink         909\n",
       "company           909\n",
       "numEmps            72\n",
       "category            8\n",
       "city              193\n",
       "state              33\n",
       "fundedDate        386\n",
       "raisedAmt         281\n",
       "raisedCurrency      3\n",
       "round               9\n",
       "dtype: int64"
      ]
     },
     "execution_count": 12,
     "metadata": {},
     "output_type": "execute_result"
    }
   ],
   "source": [
    "techcrunch.nunique()"
   ]
  },
  {
   "cell_type": "markdown",
   "metadata": {},
   "source": [
    "Sebelum melakukan eksplorasi data lebih lanjut, silahkan sesuaikan beberapa kolom yang belum memiliki tipe data yang tepat agar memperkecil memori."
   ]
  },
  {
   "cell_type": "code",
   "execution_count": 13,
   "metadata": {
    "scrolled": true
   },
   "outputs": [
    {
     "name": "stdout",
     "output_type": "stream",
     "text": [
      "<class 'pandas.core.frame.DataFrame'>\n",
      "RangeIndex: 1460 entries, 0 to 1459\n",
      "Data columns (total 10 columns):\n",
      " #   Column          Non-Null Count  Dtype         \n",
      "---  ------          --------------  -----         \n",
      " 0   permalink       1460 non-null   object        \n",
      " 1   company         1460 non-null   object        \n",
      " 2   numEmps         567 non-null    float64       \n",
      " 3   category        1436 non-null   category      \n",
      " 4   city            1442 non-null   object        \n",
      " 5   state           1460 non-null   object        \n",
      " 6   fundedDate      1460 non-null   datetime64[ns]\n",
      " 7   raisedAmt       1460 non-null   int64         \n",
      " 8   raisedCurrency  1460 non-null   category      \n",
      " 9   round           1460 non-null   category      \n",
      "dtypes: category(3), datetime64[ns](1), float64(1), int64(1), object(4)\n",
      "memory usage: 85.1+ KB\n"
     ]
    }
   ],
   "source": [
    "# your code here\n",
    "# Ubah menjadi category\n",
    "as_category = ['category','raisedCurrency','round']\n",
    "techcrunch[as_category] = techcrunch[as_category].astype(\"category\")\n",
    "techcrunch.dtypes\n",
    "\n",
    "# Ubah menjadi datetime64\n",
    "techcrunch['fundedDate'] = pd.to_datetime(techcrunch['fundedDate'], dayfirst=True)\n",
    "\n",
    "# Cek setelah di ubah tipe data\n",
    "techcrunch.info()"
   ]
  },
  {
   "cell_type": "markdown",
   "metadata": {},
   "source": [
    "## Analisis"
   ]
  },
  {
   "cell_type": "markdown",
   "metadata": {},
   "source": [
    "### Funding each Category\n",
    "\n",
    "Sebagai seseorang yang ingin menjalankan sebuah startup, Anda ingin melakukan perencanaan pendanaan yang cukup matang agar perusahaan Anda berjalan dengan lancar. Oleh karena itu, Anda tertarik untuk mencari tahu bidang (`category`) startup mana yang mendapatkan pendanaan tertinggi. Karena ada banyak startup yang bergerak dengan bidang yang sama, Anda ingin mendapatkan summary dari kebanyakan banyaknya pendanaan (`raisedAmt`) yang diberikan. Seperti yang sudah Anda ketahui sebelumnya, nilai rata-rata akan terpengaruhi oleh outlier, sehingga Anda akan menggunakan nilai **median** untuk mendapatkan summary bidang startup yang mendapatkan pendanaan tertinggi.\n",
    "\n",
    "Berdasarkan kondisi diatas, jawablah pertanyaan dibawah ini.\n",
    "\n",
    "4. Kategori (`category`) startup manakah yang mendapatkan funding (`raisedAmt`) tertinggi? gunakan `median` untuk menghitung kisaran funding dari tiap kategori!\n",
    "    \n",
    "    - [ ] `mobile`\n",
    "    - [ ] `cleantech`\n",
    "    - [X] `biotech`\n",
    "    - [ ] `consulting`"
   ]
  },
  {
   "cell_type": "code",
   "execution_count": 14,
   "metadata": {},
   "outputs": [
    {
     "data": {
      "text/plain": [
       "raisedAmt    biotech\n",
       "dtype: object"
      ]
     },
     "execution_count": 14,
     "metadata": {},
     "output_type": "execute_result"
    }
   ],
   "source": [
    "# your code here\n",
    "techcrunch.pivot_table(\n",
    "    index=\"category\",\n",
    "    values='raisedAmt',\n",
    "    aggfunc=\"median\"\n",
    ").sort_values(by='raisedAmt').idxmax()"
   ]
  },
  {
   "cell_type": "markdown",
   "metadata": {},
   "source": [
    "### Funding each Company\n",
    "\n",
    "Sebagai pengguna sosial media, Anda tertarik untuk menganalisa salah satu sosial media yang termasuk dalam daftar startup penerima pendanaan, yaitu **Friendster**. Selama masa pendanaan, Friendster mendapatkan pendanaan yang berbeda-beda. \n",
    "\n",
    "5. Pada periode manakah Friendster mendapatkan nilai funding tertinggi mereka?\n",
    "   \n",
    "    - [X] 2008-08\n",
    "    - [ ] 2002-12\n",
    "    - [ ] 2006-08\n",
    "    - [ ] 2012-01"
   ]
  },
  {
   "cell_type": "code",
   "execution_count": 15,
   "metadata": {},
   "outputs": [
    {
     "name": "stderr",
     "output_type": "stream",
     "text": [
      "C:\\Users\\andre\\AppData\\Local\\Temp\\ipykernel_12360\\2292651602.py:7: SettingWithCopyWarning: \n",
      "A value is trying to be set on a copy of a slice from a DataFrame.\n",
      "Try using .loc[row_indexer,col_indexer] = value instead\n",
      "\n",
      "See the caveats in the documentation: https://pandas.pydata.org/pandas-docs/stable/user_guide/indexing.html#returning-a-view-versus-a-copy\n",
      "  techcrunch_Fri[\"yearmonth\"] = techcrunch_Fri[\"fundedDate\"].dt.to_period(\"M\")\n"
     ]
    },
    {
     "data": {
      "text/html": [
       "<div>\n",
       "<style scoped>\n",
       "    .dataframe tbody tr th:only-of-type {\n",
       "        vertical-align: middle;\n",
       "    }\n",
       "\n",
       "    .dataframe tbody tr th {\n",
       "        vertical-align: top;\n",
       "    }\n",
       "\n",
       "    .dataframe thead th {\n",
       "        text-align: right;\n",
       "    }\n",
       "</style>\n",
       "<table border=\"1\" class=\"dataframe\">\n",
       "  <thead>\n",
       "    <tr style=\"text-align: right;\">\n",
       "      <th></th>\n",
       "      <th>permalink</th>\n",
       "      <th>company</th>\n",
       "      <th>numEmps</th>\n",
       "      <th>category</th>\n",
       "      <th>city</th>\n",
       "      <th>state</th>\n",
       "      <th>fundedDate</th>\n",
       "      <th>raisedAmt</th>\n",
       "      <th>raisedCurrency</th>\n",
       "      <th>round</th>\n",
       "      <th>yearmonth</th>\n",
       "    </tr>\n",
       "  </thead>\n",
       "  <tbody>\n",
       "    <tr>\n",
       "      <th>321</th>\n",
       "      <td>friendster</td>\n",
       "      <td>Friendster</td>\n",
       "      <td>465.0</td>\n",
       "      <td>web</td>\n",
       "      <td>San Francisco</td>\n",
       "      <td>CA</td>\n",
       "      <td>2008-08-05</td>\n",
       "      <td>20000000</td>\n",
       "      <td>USD</td>\n",
       "      <td>d</td>\n",
       "      <td>2008-08</td>\n",
       "    </tr>\n",
       "  </tbody>\n",
       "</table>\n",
       "</div>"
      ],
      "text/plain": [
       "      permalink     company  numEmps category           city state fundedDate  \\\n",
       "321  friendster  Friendster    465.0      web  San Francisco    CA 2008-08-05   \n",
       "\n",
       "     raisedAmt raisedCurrency round yearmonth  \n",
       "321   20000000            USD     d   2008-08  "
      ]
     },
     "execution_count": 15,
     "metadata": {},
     "output_type": "execute_result"
    }
   ],
   "source": [
    "# your code here\n",
    "# Filter khusus perusahaan Friendster\n",
    "cond3 = techcrunch[\"company\"] == \"Friendster\"\n",
    "techcrunch_Fri = techcrunch[cond3]\n",
    "\n",
    "# Membuat kolom yearmonth\n",
    "techcrunch_Fri[\"yearmonth\"] = techcrunch_Fri[\"fundedDate\"].dt.to_period(\"M\")\n",
    "\n",
    "# Sortil nilai terbesar dari raisedAmt\n",
    "techcrunch_Fri.sort_values(by=\"raisedAmt\").tail(1)"
   ]
  },
  {
   "cell_type": "markdown",
   "metadata": {},
   "source": [
    "Setelah melihat beberapa startup yang mendapatkan pendanaan, Anda ingin mengetahui lebih lanjut startup yang berhasil mendapatkan pendanaan di lokasi Anda, yaitu **San Francisco**. Buatlah sebuah agregasi data yang menunjukkan beberapa perusahaan yang mendapatkan pendanaan tertinggi hingga terendah di San Francisco.\n",
    "\n",
    "6.  Perusahaan apa yang **TIDAK** termasuk 5 perusahaan dengan **total** funding (`raisedAmt`) tertinggi di San Francisco?\n",
    "    \n",
    "    - [ ] `OpenTable`\n",
    "    - [ ] `Friendster`\n",
    "    - [X] `Facebook`\n",
    "    - [ ] `Snapfish`\n",
    "  "
   ]
  },
  {
   "cell_type": "code",
   "execution_count": 79,
   "metadata": {},
   "outputs": [
    {
     "data": {
      "text/html": [
       "<div>\n",
       "<style scoped>\n",
       "    .dataframe tbody tr th:only-of-type {\n",
       "        vertical-align: middle;\n",
       "    }\n",
       "\n",
       "    .dataframe tbody tr th {\n",
       "        vertical-align: top;\n",
       "    }\n",
       "\n",
       "    .dataframe thead th {\n",
       "        text-align: right;\n",
       "    }\n",
       "</style>\n",
       "<table border=\"1\" class=\"dataframe\">\n",
       "  <thead>\n",
       "    <tr style=\"text-align: right;\">\n",
       "      <th>col_0</th>\n",
       "      <th>Total Funding</th>\n",
       "    </tr>\n",
       "    <tr>\n",
       "      <th>company</th>\n",
       "      <th></th>\n",
       "    </tr>\n",
       "  </thead>\n",
       "  <tbody>\n",
       "    <tr>\n",
       "      <th>Slide</th>\n",
       "      <td>58000000</td>\n",
       "    </tr>\n",
       "    <tr>\n",
       "      <th>freebase</th>\n",
       "      <td>57500000</td>\n",
       "    </tr>\n",
       "    <tr>\n",
       "      <th>OpenTable</th>\n",
       "      <td>48000000</td>\n",
       "    </tr>\n",
       "    <tr>\n",
       "      <th>Friendster</th>\n",
       "      <td>45400000</td>\n",
       "    </tr>\n",
       "    <tr>\n",
       "      <th>Snapfish</th>\n",
       "      <td>43500000</td>\n",
       "    </tr>\n",
       "  </tbody>\n",
       "</table>\n",
       "</div>"
      ],
      "text/plain": [
       "col_0       Total Funding\n",
       "company                  \n",
       "Slide            58000000\n",
       "freebase         57500000\n",
       "OpenTable        48000000\n",
       "Friendster       45400000\n",
       "Snapfish         43500000"
      ]
     },
     "execution_count": 79,
     "metadata": {},
     "output_type": "execute_result"
    }
   ],
   "source": [
    "# your code here\n",
    "# Sortil khusus di kota San Francisco\n",
    "cond4 = techcrunch[\"city\"] == \"San Francisco\"\n",
    "techcrunch_San_Francisco = techcrunch[cond4]\n",
    "\n",
    "# Membuat aggregation table\n",
    "pd.crosstab(\n",
    "    index=techcrunch_San_Francisco[\"company\"],\n",
    "    columns=\"Total Funding\",\n",
    "    values=techcrunch_San_Francisco[\"raisedAmt\"],\n",
    "    aggfunc=\"sum\"\n",
    ").sort_values(by=\"Total Funding\", ascending=False).head()"
   ]
  }
 ],
 "metadata": {
  "kernelspec": {
   "display_name": "sparta_da",
   "language": "python",
   "name": "sparta_da"
  },
  "language_info": {
   "codemirror_mode": {
    "name": "ipython",
    "version": 3
   },
   "file_extension": ".py",
   "mimetype": "text/x-python",
   "name": "python",
   "nbconvert_exporter": "python",
   "pygments_lexer": "ipython3",
   "version": "3.9.12"
  },
  "latex_envs": {
   "LaTeX_envs_menu_present": true,
   "autoclose": false,
   "autocomplete": true,
   "bibliofile": "biblio.bib",
   "cite_by": "apalike",
   "current_citInitial": 1,
   "eqLabelWithNumbers": true,
   "eqNumInitial": 1,
   "hotkeys": {
    "equation": "Ctrl-E",
    "itemize": "Ctrl-I"
   },
   "labels_anchors": false,
   "latex_user_defs": false,
   "report_style_numbering": false,
   "user_envs_cfg": false
  },
  "toc": {
   "base_numbering": 1,
   "nav_menu": {},
   "number_sections": true,
   "sideBar": true,
   "skip_h1_title": false,
   "title_cell": "Table of Contents",
   "title_sidebar": "Contents",
   "toc_cell": false,
   "toc_position": {},
   "toc_section_display": true,
   "toc_window_display": false
  }
 },
 "nbformat": 4,
 "nbformat_minor": 4
}
